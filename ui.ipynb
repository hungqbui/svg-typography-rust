{
 "cells": [
  {
   "cell_type": "code",
   "execution_count": 5,
   "metadata": {},
   "outputs": [],
   "source": [
    "from fontMatching.fontGen import *\n",
    "from fontMatching.model import *\n",
    "from visualize import optimize2\n",
    "from os import walk\n",
    "import json\n",
    "from ocr import interogate, add_rect \n",
    "import math\n",
    "from bs4 import BeautifulSoup\n",
    "from svgpathtools import svg2paths2\n",
    "import webcolors\n",
    "from fontMatching.scoring import *\n",
    "\n",
    "\n",
    "# Bounds are formatted (left, right, top, bottom) !!!"
   ]
  },
  {
   "cell_type": "code",
   "execution_count": 6,
   "metadata": {},
   "outputs": [],
   "source": [
    "\n",
    "def formatted_get_text(image_path, texts):\n",
    "    feature = get_text_feature(image_path, texts)\n",
    "\n",
    "    for k,v in feature.items():\n",
    "        try:\n",
    "            color_hex = webcolors.hex_to_rgb(v[\"color\"])\n",
    "            background_hex = webcolors.hex_to_rgb(v[\"backgroundColor\"])\n",
    "            v[\"color\"] = (color_hex.red, color_hex.green, color_hex.blue)\n",
    "            v[\"backgroundColor\"] = (background_hex.red, background_hex.green, background_hex.blue)\n",
    "        except:\n",
    "            print(feature)\n",
    "            v[\"color\"] = (0, 0, 0)\n",
    "            v[\"backgroundColor\"] = (255, 255, 255)\n",
    "    return feature\n"
   ]
  },
  {
   "cell_type": "code",
   "execution_count": 7,
   "metadata": {},
   "outputs": [
    {
     "data": {
      "text/plain": [
       "(<PIL.Image.Image image mode=RGBA size=200x20>,\n",
       " 'c:\\\\project\\\\svg-typography-rust\\\\fontMatching\\\\fonts\\\\CaveatBrush-Regular.ttf',\n",
       " 25)"
      ]
     },
     "metadata": {},
     "output_type": "display_data"
    },
    {
     "data": {
      "text/plain": [
       "(<PIL.Image.Image image mode=RGBA size=200x20>,\n",
       " 'c:\\\\project\\\\svg-typography-rust\\\\fontMatching\\\\fonts\\\\Lexend-Black.ttf',\n",
       " 28)"
      ]
     },
     "metadata": {},
     "output_type": "display_data"
    },
    {
     "data": {
      "text/plain": [
       "(<PIL.Image.Image image mode=RGBA size=200x20>,\n",
       " 'c:\\\\project\\\\svg-typography-rust\\\\fontMatching\\\\fonts\\\\Lexend-Bold.ttf',\n",
       " 28)"
      ]
     },
     "metadata": {},
     "output_type": "display_data"
    },
    {
     "data": {
      "text/plain": [
       "(<PIL.Image.Image image mode=RGBA size=200x20>,\n",
       " 'c:\\\\project\\\\svg-typography-rust\\\\fontMatching\\\\fonts\\\\Lexend-ExtraBold.ttf',\n",
       " 28)"
      ]
     },
     "metadata": {},
     "output_type": "display_data"
    },
    {
     "data": {
      "text/plain": [
       "(<PIL.Image.Image image mode=RGBA size=200x20>,\n",
       " 'c:\\\\project\\\\svg-typography-rust\\\\fontMatching\\\\fonts\\\\Lexend-ExtraLight.ttf',\n",
       " 28)"
      ]
     },
     "metadata": {},
     "output_type": "display_data"
    },
    {
     "data": {
      "text/plain": [
       "(<PIL.Image.Image image mode=RGBA size=200x20>,\n",
       " 'c:\\\\project\\\\svg-typography-rust\\\\fontMatching\\\\fonts\\\\Lexend-Light.ttf',\n",
       " 28)"
      ]
     },
     "metadata": {},
     "output_type": "display_data"
    },
    {
     "data": {
      "text/plain": [
       "(<PIL.Image.Image image mode=RGBA size=200x20>,\n",
       " 'c:\\\\project\\\\svg-typography-rust\\\\fontMatching\\\\fonts\\\\Lexend-Medium.ttf',\n",
       " 28)"
      ]
     },
     "metadata": {},
     "output_type": "display_data"
    },
    {
     "data": {
      "text/plain": [
       "(<PIL.Image.Image image mode=RGBA size=200x20>,\n",
       " 'c:\\\\project\\\\svg-typography-rust\\\\fontMatching\\\\fonts\\\\Lexend-Regular.ttf',\n",
       " 28)"
      ]
     },
     "metadata": {},
     "output_type": "display_data"
    },
    {
     "data": {
      "text/plain": [
       "(<PIL.Image.Image image mode=RGBA size=200x20>,\n",
       " 'c:\\\\project\\\\svg-typography-rust\\\\fontMatching\\\\fonts\\\\Lexend-SemiBold.ttf',\n",
       " 28)"
      ]
     },
     "metadata": {},
     "output_type": "display_data"
    },
    {
     "data": {
      "text/plain": [
       "(<PIL.Image.Image image mode=RGBA size=200x20>,\n",
       " 'c:\\\\project\\\\svg-typography-rust\\\\fontMatching\\\\fonts\\\\Lexend-Thin.ttf',\n",
       " 28)"
      ]
     },
     "metadata": {},
     "output_type": "display_data"
    },
    {
     "data": {
      "text/plain": [
       "(<PIL.Image.Image image mode=RGBA size=200x20>,\n",
       " 'c:\\\\project\\\\svg-typography-rust\\\\fontMatching\\\\fonts\\\\Lexend-VariableFont_wght.ttf',\n",
       " 28)"
      ]
     },
     "metadata": {},
     "output_type": "display_data"
    },
    {
     "data": {
      "text/plain": [
       "(<PIL.Image.Image image mode=RGBA size=200x20>,\n",
       " 'c:\\\\project\\\\svg-typography-rust\\\\fontMatching\\\\fonts\\\\LibreBaskerville-Bold.ttf',\n",
       " 25)"
      ]
     },
     "metadata": {},
     "output_type": "display_data"
    },
    {
     "data": {
      "text/plain": [
       "(<PIL.Image.Image image mode=RGBA size=200x20>,\n",
       " 'c:\\\\project\\\\svg-typography-rust\\\\fontMatching\\\\fonts\\\\LibreBaskerville-Italic.ttf',\n",
       " 25)"
      ]
     },
     "metadata": {},
     "output_type": "display_data"
    },
    {
     "data": {
      "text/plain": [
       "(<PIL.Image.Image image mode=RGBA size=200x20>,\n",
       " 'c:\\\\project\\\\svg-typography-rust\\\\fontMatching\\\\fonts\\\\LibreBaskerville-Regular.ttf',\n",
       " 25)"
      ]
     },
     "metadata": {},
     "output_type": "display_data"
    },
    {
     "data": {
      "text/plain": [
       "(<PIL.Image.Image image mode=RGBA size=200x20>,\n",
       " 'c:\\\\project\\\\svg-typography-rust\\\\fontMatching\\\\fonts\\\\Pacifico-Regular.ttf',\n",
       " 24)"
      ]
     },
     "metadata": {},
     "output_type": "display_data"
    },
    {
     "data": {
      "text/plain": [
       "(<PIL.Image.Image image mode=RGBA size=200x20>,\n",
       " 'c:\\\\project\\\\svg-typography-rust\\\\fontMatching\\\\fonts\\\\Tangerine-Bold.ttf',\n",
       " 29)"
      ]
     },
     "metadata": {},
     "output_type": "display_data"
    },
    {
     "data": {
      "text/plain": [
       "(<PIL.Image.Image image mode=RGBA size=200x20>,\n",
       " 'c:\\\\project\\\\svg-typography-rust\\\\fontMatching\\\\fonts\\\\Tangerine-Regular.ttf',\n",
       " 31)"
      ]
     },
     "metadata": {},
     "output_type": "display_data"
    }
   ],
   "source": [
    "text = {\n",
    "    \"text\": \"NEW\",\n",
    "    \"x\": 4,\n",
    "    \"y\": 0,\n",
    "    \"color\": (0,255,0),\n",
    "    \"fontSize\": \"18\",\n",
    "    \"backgroundColor\": (0,0,0),\n",
    "}\n",
    "images = create_text(text, (200, 20))\n",
    "for i in images:\n",
    "    display(i)"
   ]
  },
  {
   "cell_type": "code",
   "execution_count": null,
   "metadata": {},
   "outputs": [
    {
     "name": "stdout",
     "output_type": "stream",
     "text": [
      "Lexend-ExtraLight\n",
      "LibreBaskerville-Bold\n",
      "Pacifico-Regular\n",
      "Tangerine-Bold\n",
      "{'text': 'NEW', 'color': '#1b1a19', 'backgroundColor': '#f9f2ee', 'fontSize': 104.99999909259259, 'fontFamily': 'Lexend-ExtraLight'}\n",
      "{'text': 'POST', 'color': '#191714', 'backgroundColor': '#f9f2ee', 'fontSize': 92.24999920277777, 'fontFamily': 'LibreBaskerville-Bold'}\n",
      "{'text': 'swipe', 'color': '#a87e45', 'backgroundColor': '#f9f2ee', 'fontSize': 76.49999933888888, 'fontFamily': 'Pacifico-Regular'}\n",
      "{'text': 'up', 'color': '#9d743e', 'backgroundColor': '#f9f2ee', 'fontSize': 159.74999861944445, 'fontFamily': 'Tangerine-Bold'}\n",
      "Lexend-Bold\n",
      "Lexend-SemiBold\n",
      "Lexend-SemiBold\n",
      "Lexend-Bold\n",
      "Lexend-SemiBold\n",
      "Lexend-ExtraBold\n",
      "LibreBaskerville-Regular\n",
      "Lexend-Light\n",
      "Lexend-Light\n",
      "Lexend-Light\n",
      "LibreBaskerville-Regular\n",
      "LibreBaskerville-Regular\n",
      "Lexend-ExtraLight\n",
      "Lexend-ExtraLight\n",
      "Lexend-ExtraLight\n",
      "Lexend-Thin\n",
      "LibreBaskerville-Regular\n",
      "Lexend-ExtraLight\n",
      "Lexend-Light\n",
      "CaveatBrush-Regular\n",
      "LibreBaskerville-Regular\n",
      "Lexend-Medium\n",
      "Lexend-SemiBold\n",
      "Lexend-Regular\n",
      "Lexend-Black\n",
      "Lexend-Black\n",
      "Lexend-ExtraLight\n",
      "Lexend-Light\n",
      "LibreBaskerville-Italic\n",
      "Lexend-Light\n",
      "Lexend-Bold\n",
      "Lexend-ExtraLight\n",
      "Lexend-Medium\n",
      "Lexend-VariableFont_wght\n",
      "Lexend-VariableFont_wght\n",
      "Lexend-Medium\n",
      "Lexend-Thin\n",
      "Lexend-Medium\n",
      "Lexend-Regular\n",
      "Lexend-Black\n",
      "CaveatBrush-Regular\n",
      "Lexend-SemiBold\n",
      "Lexend-VariableFont_wght\n",
      "Tangerine-Regular\n",
      "Lexend-Regular\n",
      "Lexend-ExtraLight\n",
      "Lexend-Light\n",
      "Lexend-ExtraLight\n",
      "{'text': 'MOMAY', 'color': '#43467a', 'backgroundColor': '#eee8ea', 'fontSize': 14.99999987037037, 'fontFamily': 'Lexend-Bold'}\n",
      "{'text': 'GROUP', 'color': '#494c7e', 'backgroundColor': '#efeaea', 'fontSize': 14.99999987037037, 'fontFamily': 'Lexend-SemiBold'}\n",
      "{'text': 'OF', 'color': '#4e5081', 'backgroundColor': '#f1ecec', 'fontSize': 14.99999987037037, 'fontFamily': 'Lexend-SemiBold'}\n",
      "{'text': 'COMPANIES', 'color': '#44477a', 'backgroundColor': '#ede7e9', 'fontSize': 14.99999987037037, 'fontFamily': 'Lexend-Bold'}\n",
      "{'text': 'OUR', 'color': '#353970', 'backgroundColor': '#ece7e9', 'fontSize': 29.24999974722222, 'fontFamily': 'Lexend-SemiBold'}\n",
      "{'text': 'SUSTAINABILITY', 'color': '#393c73', 'backgroundColor': '#f2ecec', 'fontSize': 29.24999974722222, 'fontFamily': 'Lexend-ExtraBold'}\n",
      "{'text': 'COMMITMENT', 'color': '#363971', 'backgroundColor': '#eee9ea', 'fontSize': 27.749999760185187, 'fontFamily': 'LibreBaskerville-Regular'}\n",
      "{'text': 'Sustainable', 'color': '#6c6d94', 'backgroundColor': '#eee9ea', 'fontSize': 11.249999902777777, 'fontFamily': 'Lexend-Light'}\n",
      "{'text': 'Policies', 'color': '#6c6d94', 'backgroundColor': '#f0ebeb', 'fontSize': 11.249999902777777, 'fontFamily': 'Lexend-Light'}\n",
      "{'text': '25', 'color': '#656690', 'backgroundColor': '#eee8e9', 'fontSize': 11.249999902777777, 'fontFamily': 'Lexend-Light'}\n",
      "{'text': '%', 'color': '#5d5f8b', 'backgroundColor': '#ebe6e8', 'fontSize': 11.249999902777777, 'fontFamily': 'LibreBaskerville-Regular'}\n",
      "{'text': 'Water', 'color': '#666791', 'backgroundColor': '#f0eaeb', 'fontSize': 11.249999902777777, 'fontFamily': 'LibreBaskerville-Regular'}\n",
      "{'text': 'Conservation', 'color': '#666790', 'backgroundColor': '#f0eaeb', 'fontSize': 11.249999902777777, 'fontFamily': 'Lexend-ExtraLight'}\n",
      "{'text': '16.7', 'color': '#6e6f95', 'backgroundColor': '#f1ebeb', 'fontSize': 11.999999896296297, 'fontFamily': 'Lexend-ExtraLight'}\n",
      "{'text': 'Pollution', 'color': '#666790', 'backgroundColor': '#efe9ea', 'fontSize': 10.499999909259259, 'fontFamily': 'Lexend-ExtraLight'}\n",
      "{'text': 'Reduction', 'color': '#686992', 'backgroundColor': '#eee8e9', 'fontSize': 10.499999909259259, 'fontFamily': 'Lexend-Thin'}\n",
      "{'text': 'Waste', 'color': '#6c6d94', 'backgroundColor': '#eee9ea', 'fontSize': 11.249999902777777, 'fontFamily': 'LibreBaskerville-Regular'}\n",
      "{'text': '8.3', 'color': '#64668f', 'backgroundColor': '#f0eaeb', 'fontSize': 9.74999991574074, 'fontFamily': 'Lexend-ExtraLight'}\n",
      "{'text': 'Clean', 'color': '#707097', 'backgroundColor': '#f3eeed', 'fontSize': 13.499999883333333, 'fontFamily': 'Lexend-Light'}\n",
      "{'text': 'Energy', 'color': '#6f7096', 'backgroundColor': '#f4eeed', 'fontSize': 10.499999909259259, 'fontFamily': 'CaveatBrush-Regular'}\n",
      "{'text': '33.3', 'color': '#62648e', 'backgroundColor': '#f1ebec', 'fontSize': 11.249999902777777, 'fontFamily': 'LibreBaskerville-Regular'}\n",
      "{'text': 'We', 'color': '#5d5f8b', 'backgroundColor': '#f5efee', 'fontSize': 21.74999981203704, 'fontFamily': 'Lexend-Medium'}\n",
      "{'text': 'have', 'color': '#5c5e8a', 'backgroundColor': '#f4eeee', 'fontSize': 20.999999818518518, 'fontFamily': 'Lexend-SemiBold'}\n",
      "{'text': 'invested', 'color': '#60618c', 'backgroundColor': '#f4eeee', 'fontSize': 20.249999825000003, 'fontFamily': 'Lexend-Regular'}\n",
      "{'text': '$', 'color': '#515383', 'backgroundColor': '#f1ebeb', 'fontSize': 17.249999850925924, 'fontFamily': 'Lexend-Black'}\n",
      "{'text': '2B', 'color': '#4a4d7e', 'backgroundColor': '#f3eded', 'fontSize': 22.499999805555554, 'fontFamily': 'Lexend-Black'}\n",
      "{'text': 'in', 'color': '#5e5f8b', 'backgroundColor': '#f5efee', 'fontSize': 22.499999805555554, 'fontFamily': 'Lexend-ExtraLight'}\n",
      "{'text': 'sustainability', 'color': '#5b5d89', 'backgroundColor': '#f5efee', 'fontSize': 15.74999986388889, 'fontFamily': 'Lexend-Light'}\n",
      "{'text': 'efforts', 'color': '#5f618c', 'backgroundColor': '#f5efee', 'fontSize': 14.99999987037037, 'fontFamily': 'LibreBaskerville-Italic'}\n",
      "{'text': 'to', 'color': '#5a5c88', 'backgroundColor': '#f5efee', 'fontSize': 21.74999981203704, 'fontFamily': 'Lexend-Light'}\n",
      "{'text': 'date', 'color': '#5d5f8b', 'backgroundColor': '#f4efee', 'fontSize': 20.999999818518518, 'fontFamily': 'Lexend-Bold'}\n",
      "{'text': ',', 'color': '#8989a7', 'backgroundColor': '#f5efee', 'fontSize': 69.74999939722223, 'fontFamily': 'Lexend-ExtraLight'}\n",
      "{'text': 'and', 'color': '#595b88', 'backgroundColor': '#f4eeee', 'fontSize': 20.249999825000003, 'fontFamily': 'Lexend-Medium'}\n",
      "{'text': 'are', 'color': '#5e608b', 'backgroundColor': '#f4efee', 'fontSize': 27.749999760185187, 'fontFamily': 'Lexend-VariableFont_wght'}\n",
      "{'text': 'on', 'color': '#64658f', 'backgroundColor': '#f5efee', 'fontSize': 27.749999760185187, 'fontFamily': 'Lexend-VariableFont_wght'}\n",
      "{'text': 'track', 'color': '#5b5d8a', 'backgroundColor': '#f4eeee', 'fontSize': 20.249999825000003, 'fontFamily': 'Lexend-Medium'}\n",
      "{'text': 'becoming', 'color': '#60618c', 'backgroundColor': '#f5efee', 'fontSize': 14.99999987037037, 'fontFamily': 'Lexend-Thin'}\n",
      "{'text': 'carbon', 'color': '#5a5c89', 'backgroundColor': '#f4eeee', 'fontSize': 20.249999825000003, 'fontFamily': 'Lexend-Medium'}\n",
      "{'text': 'net', 'color': '#5f608c', 'backgroundColor': '#f5efee', 'fontSize': 21.74999981203704, 'fontFamily': 'Lexend-Regular'}\n",
      "{'text': '-', 'color': '#4d5080', 'backgroundColor': '#f6f0ef', 'fontSize': 39.749999656481485, 'fontFamily': 'Lexend-Black'}\n",
      "{'text': 'zero', 'color': '#5b5d89', 'backgroundColor': '#f4eeee', 'fontSize': 29.24999974722222, 'fontFamily': 'CaveatBrush-Regular'}\n",
      "{'text': 'by', 'color': '#5e608b', 'backgroundColor': '#f4eeee', 'fontSize': 15.74999986388889, 'fontFamily': 'Lexend-SemiBold'}\n",
      "{'text': '2030', 'color': '#4f5181', 'backgroundColor': '#f2edec', 'fontSize': 20.249999825000003, 'fontFamily': 'Lexend-VariableFont_wght'}\n",
      "{'text': '.', 'color': '#525483', 'backgroundColor': '#f6f0ef', 'fontSize': 224.99999805555558, 'fontFamily': 'Tangerine-Regular'}\n",
      "{'text': 'REFERENCE', 'color': '#5b5c89', 'backgroundColor': '#ede8e9', 'fontSize': 11.999999896296297, 'fontFamily': 'Lexend-Regular'}\n",
      "{'text': ':', 'color': '#8e8daa', 'backgroundColor': '#f6f0ef', 'fontSize': 16.49999985740741, 'fontFamily': 'Lexend-ExtraLight'}\n",
      "{'text': 'INTERNAL', 'color': '#555785', 'backgroundColor': '#ece7e8', 'fontSize': 13.499999883333333, 'fontFamily': 'Lexend-Light'}\n",
      "{'text': 'REPORT', 'color': '#5c5e8a', 'backgroundColor': '#efeaeb', 'fontSize': 11.999999896296297, 'fontFamily': 'Lexend-ExtraLight'}\n",
      "Tangerine-Bold\n",
      "Lexend-SemiBold\n",
      "Lexend-Medium\n",
      "Lexend-Medium\n",
      "Lexend-Medium\n",
      "Lexend-Light\n",
      "LibreBaskerville-Regular\n",
      "{'text': 'the', 'color': '#5f5d5c', 'backgroundColor': '#fefefe', 'fontSize': 97.4999991574074, 'fontFamily': 'Tangerine-Bold'}\n",
      "{'text': 'CIRCLE', 'color': '#0e0e0e', 'backgroundColor': '#fefefe', 'fontSize': 77.99999932592593, 'fontFamily': 'Lexend-SemiBold'}\n",
      "{'text': 'DESIGN', 'color': '#292929', 'backgroundColor': '#fefefe', 'fontSize': 24.74999978611111, 'fontFamily': 'Lexend-Medium'}\n",
      "{'text': 'STUDIO', 'color': '#2c2c2c', 'backgroundColor': '#fefefe', 'fontSize': 24.74999978611111, 'fontFamily': 'Lexend-Medium'}\n",
      "{'text': 'EST', 'color': '#262626', 'backgroundColor': '#fafafa', 'fontSize': 14.99999987037037, 'fontFamily': 'Lexend-Medium'}\n",
      "{'text': 'D', 'color': '#252525', 'backgroundColor': '#f7f7f7', 'fontSize': 16.49999985740741, 'fontFamily': 'Lexend-Light'}\n",
      "{'text': '2012', 'color': '#2a2a2a', 'backgroundColor': '#fcfcfc', 'fontSize': 12.749999889814815, 'fontFamily': 'LibreBaskerville-Regular'}\n",
      "Lexend-Light\n",
      "Lexend-Regular\n",
      "Pacifico-Regular\n",
      "Lexend-Light\n",
      "CaveatBrush-Regular\n",
      "Lexend-ExtraBold\n",
      "Lexend-Bold\n",
      "LibreBaskerville-Italic\n",
      "Lexend-Light\n",
      "Lexend-SemiBold\n",
      "Lexend-Regular\n",
      "Lexend-Light\n",
      "Lexend-VariableFont_wght\n",
      "Lexend-Light\n",
      "Lexend-Medium\n",
      "Lexend-Light\n",
      "Lexend-Thin\n",
      "Lexend-VariableFont_wght\n",
      "Lexend-Medium\n",
      "Lexend-Regular\n",
      "Lexend-Light\n",
      "Lexend-VariableFont_wght\n",
      "LibreBaskerville-Italic\n",
      "Lexend-Bold\n",
      "LibreBaskerville-Bold\n",
      "Lexend-SemiBold\n",
      "Lexend-ExtraBold\n",
      "Lexend-Light\n",
      "Lexend-ExtraLight\n",
      "LibreBaskerville-Bold\n",
      "Lexend-Regular\n",
      "Lexend-Thin\n",
      "LibreBaskerville-Regular\n",
      "Lexend-ExtraLight\n",
      "Lexend-VariableFont_wght\n",
      "Lexend-ExtraLight\n",
      "Lexend-Thin\n",
      "{'text': '///////', 'color': '#7f8486', 'backgroundColor': '#e7e8e8', 'fontSize': 53.99999953333333, 'fontFamily': 'Lexend-Light'}\n",
      "{'text': 'Liceria', 'color': '#7a7e80', 'backgroundColor': '#d8d9da', 'fontSize': 20.249999825000003, 'fontFamily': 'Lexend-Regular'}\n",
      "{'text': '&', 'color': '#787c7e', 'backgroundColor': '#e1e1e2', 'fontSize': 14.99999987037037, 'fontFamily': 'Pacifico-Regular'}\n",
      "{'text': 'co', 'color': '#7a7f81', 'backgroundColor': '#dbdcdc', 'fontSize': 27.749999760185187, 'fontFamily': 'Lexend-Light'}\n",
      "{'text': '.', 'color': '#7b8082', 'backgroundColor': '#d0d1d2', 'fontSize': 83.99999927407407, 'fontFamily': 'CaveatBrush-Regular'}\n",
      "{'text': 'NEW', 'color': '#737678', 'backgroundColor': '#fefefe', 'fontSize': 74.24999935833333, 'fontFamily': 'Lexend-ExtraBold'}\n",
      "{'text': 'FASHION', 'color': '#717577', 'backgroundColor': '#fefefe', 'fontSize': 74.24999935833333, 'fontFamily': 'Lexend-Bold'}\n",
      "{'text': 'COLLECTION', 'color': '#717576', 'backgroundColor': '#fefefe', 'fontSize': 67.49999941666667, 'fontFamily': 'LibreBaskerville-Italic'}\n",
      "{'text': 'Orders', 'color': '#7a7f81', 'backgroundColor': '#d9dada', 'fontSize': 24.74999978611111, 'fontFamily': 'Lexend-Light'}\n",
      "{'text': 'placed', 'color': '#7a7f81', 'backgroundColor': '#dddede', 'fontSize': 20.249999825000003, 'fontFamily': 'Lexend-SemiBold'}\n",
      "{'text': 'after', 'color': '#7a7e80', 'backgroundColor': '#d9dada', 'fontSize': 23.999999792592593, 'fontFamily': 'Lexend-Regular'}\n",
      "{'text': '3pm', 'color': '#7a7f80', 'backgroundColor': '#dbdcdd', 'fontSize': 18.749999837962964, 'fontFamily': 'Lexend-Light'}\n",
      "{'text': 'are', 'color': '#7a7e80', 'backgroundColor': '#dddedf', 'fontSize': 29.24999974722222, 'fontFamily': 'Lexend-VariableFont_wght'}\n",
      "{'text': 'delivered', 'color': '#7a7e80', 'backgroundColor': '#dcdddd', 'fontSize': 21.74999981203704, 'fontFamily': 'Lexend-Light'}\n",
      "{'text': 'the', 'color': '#797e80', 'backgroundColor': '#dddede', 'fontSize': 20.999999818518518, 'fontFamily': 'Lexend-Medium'}\n",
      "{'text': 'next', 'color': '#7a7e80', 'backgroundColor': '#dcdddd', 'fontSize': 23.249999799074075, 'fontFamily': 'Lexend-Light'}\n",
      "{'text': 'day', 'color': '#797e80', 'backgroundColor': '#dedfe0', 'fontSize': 15.74999986388889, 'fontFamily': 'Lexend-Thin'}\n",
      "{'text': 'Call', 'color': '#797d7f', 'backgroundColor': '#dadbdc', 'fontSize': 18.749999837962964, 'fontFamily': 'Lexend-VariableFont_wght'}\n",
      "{'text': 'or', 'color': '#7a7f81', 'backgroundColor': '#d7d8d9', 'fontSize': 25.49999977962963, 'fontFamily': 'Lexend-Medium'}\n",
      "{'text': 'order', 'color': '#797e80', 'backgroundColor': '#d9dadb', 'fontSize': 18.749999837962964, 'fontFamily': 'Lexend-Regular'}\n",
      "{'text': 'online', 'color': '#797e80', 'backgroundColor': '#dcdddd', 'fontSize': 18.749999837962964, 'fontFamily': 'Lexend-Light'}\n",
      "{'text': 'now', 'color': '#7a7f80', 'backgroundColor': '#d9dadb', 'fontSize': 25.49999977962963, 'fontFamily': 'Lexend-VariableFont_wght'}\n",
      "{'text': '!', 'color': '#797e7f', 'backgroundColor': '#d8d9d9', 'fontSize': 18.749999837962964, 'fontFamily': 'LibreBaskerville-Italic'}\n",
      "{'text': 'SHOP', 'color': '#5c6061', 'backgroundColor': '#f8f8f8', 'fontSize': 17.999999844444446, 'fontFamily': 'Lexend-Bold'}\n",
      "{'text': 'NOW', 'color': '#5b5f60', 'backgroundColor': '#f7f7f7', 'fontSize': 17.999999844444446, 'fontFamily': 'LibreBaskerville-Bold'}\n",
      "{'text': 'Contact', 'color': '#7c8082', 'backgroundColor': '#f3f4f4', 'fontSize': 20.249999825000003, 'fontFamily': 'Lexend-SemiBold'}\n",
      "{'text': 'Us', 'color': '#7a7e80', 'backgroundColor': '#f3f3f3', 'fontSize': 18.749999837962964, 'fontFamily': 'Lexend-ExtraBold'}\n",
      "{'text': ':', 'color': '#7c8183', 'backgroundColor': '#eaebeb', 'fontSize': 25.49999977962963, 'fontFamily': 'Lexend-Light'}\n",
      "{'text': '123-456-7890', 'color': '#787d7f', 'backgroundColor': '#d3d4d4', 'fontSize': 14.249999876851852, 'fontFamily': 'Lexend-ExtraLight'}\n",
      "{'text': '→', 'color': '#a4a8a9', 'backgroundColor': '#fbfbfb', 'fontSize': 11.249999902777777, 'fontFamily': 'LibreBaskerville-Bold'}\n",
      "{'text': 'www.eallygreatsite.com', 'color': '#7b8082', 'backgroundColor': '#cfd0d1', 'fontSize': 15.74999986388889, 'fontFamily': 'Lexend-Regular'}\n",
      "{'text': '123', 'color': '#787d7f', 'backgroundColor': '#d3d4d5', 'fontSize': 17.249999850925924, 'fontFamily': 'Lexend-Thin'}\n",
      "{'text': 'Anywhere', 'color': '#7a7f81', 'backgroundColor': '#cfd0d1', 'fontSize': 12.749999889814815, 'fontFamily': 'LibreBaskerville-Regular'}\n",
      "{'text': 'St.', 'color': '#7b8081', 'backgroundColor': '#d1d3d3', 'fontSize': 17.999999844444446, 'fontFamily': 'Lexend-ExtraLight'}\n",
      "{'text': ',', 'color': '#7c8183', 'backgroundColor': '#c2c4c4', 'fontSize': 41.999999637037035, 'fontFamily': 'Lexend-VariableFont_wght'}\n",
      "{'text': 'Any', 'color': '#7b7f81', 'backgroundColor': '#d4d5d6', 'fontSize': 13.499999883333333, 'fontFamily': 'Lexend-ExtraLight'}\n",
      "{'text': 'City', 'color': '#7a7f81', 'backgroundColor': '#ced0d0', 'fontSize': 14.249999876851852, 'fontFamily': 'Lexend-Thin'}\n",
      "CaveatBrush-Regular\n",
      "CaveatBrush-Regular\n",
      "CaveatBrush-Regular\n",
      "{'text': 'Hello', 'color': '#e69919', 'backgroundColor': '#f9f0e1', 'fontSize': 152.24999868425928, 'fontFamily': 'CaveatBrush-Regular'}\n",
      "{'text': 'Autumn', 'color': '#ac2a17', 'backgroundColor': '#f9efe1', 'fontSize': 218.2499981138889, 'fontFamily': 'CaveatBrush-Regular'}\n",
      "{'text': '@REALLYGREATSITE', 'color': '#ac4545', 'backgroundColor': '#f9f0e2', 'fontSize': 22.499999805555554, 'fontFamily': 'CaveatBrush-Regular'}\n"
     ]
    },
    {
     "ename": "",
     "evalue": "",
     "output_type": "error",
     "traceback": [
      "\u001b[1;31mThe Kernel crashed while executing code in the current cell or a previous cell. \n",
      "\u001b[1;31mPlease review the code in the cell(s) to identify a possible cause of the failure. \n",
      "\u001b[1;31mClick <a href='https://aka.ms/vscodeJupyterKernelCrash'>here</a> for more info. \n",
      "\u001b[1;31mView Jupyter <a href='command:jupyter.viewOutput'>log</a> for further details."
     ]
    }
   ],
   "source": [
    "for _,_,files in walk(\"./svgs\"):\n",
    "    for file in files:\n",
    "        image_path = f\"./pngs/{file}.png\"\n",
    "        id_svg_path = f\"./id_svg/{file}_withID.svg\"\n",
    "\n",
    "        json_dict = add_rect(file)\n",
    "        ocr_dict = interogate(image_path)\n",
    "\n",
    "        if (not ocr_dict): continue\n",
    "\n",
    "        with open(id_svg_path) as f:\n",
    "            soup = BeautifulSoup(f, \"xml\")\n",
    "            root = soup.find(\"svg\")\n",
    "            _,_, attr = svg2paths2(id_svg_path)\n",
    "\n",
    "        dim = attr[\"viewBox\"].split(\" \")\n",
    "\n",
    "        svg_width = float(dim[2].replace(\"px\",\"\"))\n",
    "        svg_height = float(dim[3].replace(\"px\",\"\"))\n",
    "\n",
    "        img_width, img_height = int(attr[\"width\"].replace(\"px\", \"\")), int(attr[\"height\"].replace(\"px\", \"\"))\n",
    "\n",
    "        m,n = len(json_dict), len(ocr_dict)\n",
    "\n",
    "        json_map = {i : key for key, i in zip(list(json_dict.keys()), range(m))}\n",
    "        ocr_map = {i : key for key, i in zip(list(ocr_dict.keys()), range(n))}\n",
    "\n",
    "        json_map_inv = {v: k for k, v in json_map.items()}\n",
    "        ocr_map_inv = {v: k for k, v in ocr_map.items()}\n",
    "\n",
    "        bounds_json = list(json_dict.values())\n",
    "        bounds_ocr = list(ocr_dict.values())\n",
    "\n",
    "        bounds_ocr_svg = [(left * svg_width, right * svg_width, top * svg_height, bottom * svg_height) for left,right,top,bottom in bounds_ocr]\n",
    "        bounds_ocr_png = [(left * img_width, right * img_width, top * img_height, bottom * img_height) for left,right,top,bottom in bounds_ocr]\n",
    "\n",
    "        center_json = [((b[1] + b[0]) / 2, (b[2] + b[3]) / 2) for b in bounds_json]\n",
    "        center_ocr = [((b[1] + b[0]) / 2, (b[2] +  b[3]) / 2) for b in bounds_ocr_svg]\n",
    "\n",
    "        d = [[ 0 for i in range(n) ] for j in range(m)]\n",
    "\n",
    "\n",
    "        for i in range(m):\n",
    "            x1,y1 = center_json[i][0], center_json[i][1]\n",
    "            for j in range(n):\n",
    "                x2,y2 = center_ocr[j][0], center_ocr[j][1]\n",
    "\n",
    "                d[i][j] = math.sqrt((x2-x1) ** 2 + (y2-y1)**2)\n",
    "\n",
    "        x = [ [0] * (n) for i in range(m) ]\n",
    "        \n",
    "        optimize2(bounds_ocr_svg, center_json, x)\n",
    "\n",
    "        group = [[] for _ in range(n)]\n",
    "        for i in range(m):\n",
    "            if max(x[i]):\n",
    "                group[x[i].index(1)].append(json_map[i])\n",
    "\n",
    "        # current_feature = formatted_get_text(image_path, list(ocr_dict.keys()))\n",
    "\n",
    "        new_texts = {}\n",
    "        fonts_import = []\n",
    "\n",
    "        for i in range(0, n):\n",
    "            current_text = ocr_map[i]\n",
    "            current_bound = bounds_ocr_png[i]\n",
    "\n",
    "            cropped = crop_image(image_path, current_bound)\n",
    "\n",
    "            bg_color, text_color = get_color(cropped)\n",
    "\n",
    "            text = {\n",
    "                \"text\": current_text,\n",
    "                \"color\": webcolors.rgb_to_hex((text_color[0], text_color[1], text_color[2])),\n",
    "                \"backgroundColor\": webcolors.rgb_to_hex((bg_color[0], bg_color[1], bg_color[2])),\n",
    "            }\n",
    "\n",
    "            images = create_text(text, (round(current_bound[1] - current_bound[0]), round(current_bound[3] - current_bound[2])))\n",
    "            matches = hog_scoring(cropped, images)\n",
    "\n",
    "            best = matches[0]\n",
    "            font_base64 = f\"data:font/ttf;base64,{font_to_base64(best[1])}\"\n",
    "            font_name = best[1].split(\"\\\\\")[-1].split(\".\")[0]\n",
    "            print(font_name)\n",
    "            text.update({\n",
    "                \"fontSize\": best[2] / img_height * svg_height,\n",
    "                \"fontFamily\": font_name,\n",
    "            })\n",
    "            new_texts[current_text] = text\n",
    "            fonts_import.append((font_base64, font_name))\n",
    "\n",
    "        style_tag = soup.find(\"style\")\n",
    "\n",
    "        if not style_tag:\n",
    "            style_tag = soup.new_tag(\"style\")\n",
    "            root.insert(0, style_tag)\n",
    "        \n",
    "        for font_base64, font_name in fonts_import:\n",
    "            style_tag.insert(0, f\"@font-face {{font-family: {font_name}; src: url('{font_base64}') format('truetype');}}\")\n",
    "\n",
    "        for text_index, e_list in enumerate(group):\n",
    "            for element_id in e_list:\n",
    "                e = soup.find(id=element_id)\n",
    "                if e: e.decompose()\n",
    "            \n",
    "            text_content = ocr_map[text_index]\n",
    "            text_element = new_texts[text_content]\n",
    "\n",
    "            print(text_element)\n",
    "\n",
    "            x,y = center_ocr[text_index]\n",
    "\n",
    "            replacement = soup.new_tag(\"text\",x=x,y=y, style=f\"font-family: {text_element['fontFamily']}; font-size: {text_element['fontSize']}px; fill: {text_element['color']};\")\n",
    "            replacement[\"text-anchor\"] = \"middle\"\n",
    "            replacement['dominant-baseline'] = 'central'\n",
    "            replacement.insert(0, text_content)\n",
    "   \n",
    "   \n",
    "            root.append(replacement)\n",
    "        \n",
    "        with open(f\"./finalized_svg/{file}_final.svg\", \"wb\") as wf:\n",
    "            wf.write(soup.prettify(\"utf-8\"))"
   ]
  }
 ],
 "metadata": {
  "kernelspec": {
   "display_name": "venv",
   "language": "python",
   "name": "python3"
  },
  "language_info": {
   "codemirror_mode": {
    "name": "ipython",
    "version": 3
   },
   "file_extension": ".py",
   "mimetype": "text/x-python",
   "name": "python",
   "nbconvert_exporter": "python",
   "pygments_lexer": "ipython3",
   "version": "3.9.13"
  }
 },
 "nbformat": 4,
 "nbformat_minor": 2
}
