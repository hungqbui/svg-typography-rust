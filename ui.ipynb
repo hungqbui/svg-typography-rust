{
 "cells": [
  {
   "cell_type": "code",
   "execution_count": 1,
   "metadata": {},
   "outputs": [
    {
     "name": "stderr",
     "output_type": "stream",
     "text": [
      "c:\\research\\svg-typography-rust\\venv\\Lib\\site-packages\\tqdm\\auto.py:21: TqdmWarning: IProgress not found. Please update jupyter and ipywidgets. See https://ipywidgets.readthedocs.io/en/stable/user_install.html\n",
      "  from .autonotebook import tqdm as notebook_tqdm\n"
     ]
    }
   ],
   "source": [
    "from fontMatching.fontGen import *\n",
    "from fontMatching.model import *\n",
    "from visualize import optimize2\n",
    "from os import walk\n",
    "import json\n",
    "from ocr import interogate, add_rect \n",
    "import math\n",
    "from bs4 import BeautifulSoup\n",
    "from svgpathtools import svg2paths2\n",
    "import webcolors"
   ]
  },
  {
   "cell_type": "code",
   "execution_count": 2,
   "metadata": {},
   "outputs": [
    {
     "name": "stdout",
     "output_type": "stream",
     "text": [
      "{'NEW': {'color': '#000000', 'fontSize': '30px', 'backgroundColor': '#F5F5DC'}, 'POST': {'color': '#000000', 'fontSize': '30px', 'backgroundColor': '#F5F5DC'}, 'swipe': {'color': '#A0522D', 'fontSize': '20px', 'backgroundColor': '#F5F5DC'}, 'up': {'color': '#A0522D', 'fontSize': '20px', 'backgroundColor': '#F5F5DC'}}\n"
     ]
    },
    {
     "data": {
      "text/plain": [
       "{'NEW': {'color': (0, 0, 0),\n",
       "  'fontSize': '30px',\n",
       "  'backgroundColor': (245, 245, 220)},\n",
       " 'POST': {'color': (0, 0, 0),\n",
       "  'fontSize': '30px',\n",
       "  'backgroundColor': (245, 245, 220)},\n",
       " 'swipe': {'color': (160, 82, 45),\n",
       "  'fontSize': '20px',\n",
       "  'backgroundColor': (245, 245, 220)},\n",
       " 'up': {'color': (160, 82, 45),\n",
       "  'fontSize': '20px',\n",
       "  'backgroundColor': (245, 245, 220)}}"
      ]
     },
     "execution_count": 2,
     "metadata": {},
     "output_type": "execute_result"
    }
   ],
   "source": [
    "feature = get_text_feature(\"./pngs/Blush Modern Stylish New Post Instagram Post.svg.png\", [\"NEW\", \"POST\", \"swipe\", \"up\"])\n",
    "print(feature)\n",
    "for k,v in feature.items():\n",
    "    color_hex = webcolors.hex_to_rgb(v[\"color\"])\n",
    "    background_hex = webcolors.hex_to_rgb(v[\"backgroundColor\"])\n",
    "    v[\"color\"] = (color_hex.red, color_hex.green, color_hex.blue)\n",
    "    v[\"backgroundColor\"] = (background_hex.red, background_hex.green, background_hex.blue)\n",
    "\n",
    "\n",
    "feature"
   ]
  },
  {
   "cell_type": "code",
   "execution_count": 6,
   "metadata": {},
   "outputs": [
    {
     "data": {
      "image/png": "[encoded data removed]",
      "text/plain": [
       "<PIL.Image.Image image mode=RGBA size=200x20>"
      ]
     },
     "metadata": {},
     "output_type": "display_data"
    },
    {
     "data": {
      "image/png": "[encoded data removed]",
      "text/plain": [
       "<PIL.Image.Image image mode=RGBA size=200x20>"
      ]
     },
     "metadata": {},
     "output_type": "display_data"
    },
    {
     "data": {
      "image/png": "[encoded data removed]",
      "text/plain": [
       "<PIL.Image.Image image mode=RGBA size=200x20>"
      ]
     },
     "metadata": {},
     "output_type": "display_data"
    },
    {
     "data": {
      "image/png": "[encoded data removed]",
      "text/plain": [
       "<PIL.Image.Image image mode=RGBA size=200x20>"
      ]
     },
     "metadata": {},
     "output_type": "display_data"
    },
    {
     "data": {
      "image/png": "[encoded data removed]",
      "text/plain": [
       "<PIL.Image.Image image mode=RGBA size=200x20>"
      ]
     },
     "metadata": {},
     "output_type": "display_data"
    },
    {
     "data": {
      "image/png": "[encoded data removed]",
      "text/plain": [
       "<PIL.Image.Image image mode=RGBA size=200x20>"
      ]
     },
     "metadata": {},
     "output_type": "display_data"
    },
    {
     "data": {
      "image/png": "[encoded data removed]",
      "text/plain": [
       "<PIL.Image.Image image mode=RGBA size=200x20>"
      ]
     },
     "metadata": {},
     "output_type": "display_data"
    },
    {
     "data": {
      "image/png": "[encoded data removed]",
      "text/plain": [
       "<PIL.Image.Image image mode=RGBA size=200x20>"
      ]
     },
     "metadata": {},
     "output_type": "display_data"
    },
    {
     "data": {
      "image/png": "[encoded data removed]",
      "text/plain": [
       "<PIL.Image.Image image mode=RGBA size=200x20>"
      ]
     },
     "metadata": {},
     "output_type": "display_data"
    },
    {
     "data": {
      "image/png": "[encoded data removed]",
      "text/plain": [
       "<PIL.Image.Image image mode=RGBA size=200x20>"
      ]
     },
     "metadata": {},
     "output_type": "display_data"
    },
    {
     "data": {
      "image/png": "[encoded data removed]",
      "text/plain": [
       "<PIL.Image.Image image mode=RGBA size=200x20>"
      ]
     },
     "metadata": {},
     "output_type": "display_data"
    },
    {
     "data": {
      "image/png": "[encoded data removed]",
      "text/plain": [
       "<PIL.Image.Image image mode=RGBA size=200x20>"
      ]
     },
     "metadata": {},
     "output_type": "display_data"
    },
    {
     "data": {
      "image/png": "[encoded data removed]",
      "text/plain": [
       "<PIL.Image.Image image mode=RGBA size=200x20>"
      ]
     },
     "metadata": {},
     "output_type": "display_data"
    },
    {
     "data": {
      "image/png": "[encoded data removed]",
      "text/plain": [
       "<PIL.Image.Image image mode=RGBA size=200x20>"
      ]
     },
     "metadata": {},
     "output_type": "display_data"
    },
    {
     "data": {
      "image/png": "[encoded data removed]",
      "text/plain": [
       "<PIL.Image.Image image mode=RGBA size=200x20>"
      ]
     },
     "metadata": {},
     "output_type": "display_data"
    }
   ],
   "source": [
    "text = {\n",
    "    \"text\": \"NEW\",\n",
    "    \"x\": 4,\n",
    "    \"y\": 0,\n",
    "    \"color\": (0,255,0),\n",
    "    \"fontSize\": 18,\n",
    "}\n",
    "images = create_text(text, (200, 20))\n",
    "for i in images:\n",
    "    display(i)"
   ]
  },
  {
   "cell_type": "code",
   "execution_count": null,
   "metadata": {},
   "outputs": [
    {
     "name": "stdout",
     "output_type": "stream",
     "text": [
      "1080 1080 ./pngs/Blush Modern Stylish New Post Instagram Post.svg.png\n",
      "[['object_18', 'object_14', 'object_22'], ['object_4', 'object_26', 'object_1', 'object_30', 'object_34', 'object_38', 'object_2'], ['object_42', 'object_50', 'object_58', 'object_46', 'object_54'], ['object_62', 'object_66']]\n",
      "1080 1080 ./pngs/chart.svg.png\n",
      "[['object_468', 'object_472', 'object_464', 'object_480', 'object_476'], ['object_500', 'object_488', 'object_484', 'object_496', 'object_492'], ['object_504', 'object_508'], ['object_512', 'object_544', 'object_524', 'object_532', 'object_516', 'object_520', 'object_528', 'object_536', 'object_540'], ['object_548', 'object_556', 'object_552'], ['object_576', 'object_580', 'object_612', 'object_596', 'object_592', 'object_604', 'object_560', 'object_588', 'object_564', 'object_572', 'object_584', 'object_568', 'object_608', 'object_600'], ['object_628', 'object_620', 'object_648', 'object_632', 'object_636', 'object_624', 'object_644', 'object_652', 'object_616', 'object_640'], ['object_757', 'object_725', 'object_737', 'object_765', 'object_729', 'object_741', 'object_753', 'object_745', 'object_761', 'object_749', 'object_733'], ['object_777', 'object_793', 'object_789', 'object_781', 'object_769', 'object_773', 'object_785', 'object_797'], ['object_801', 'object_805'], ['object_721'], ['object_905', 'object_901', 'object_889', 'object_893', 'object_897'], ['object_913', 'object_945', 'object_953', 'object_925', 'object_917', 'object_949', 'object_921', 'object_933', 'object_909', 'object_937', 'object_941', 'object_929'], ['object_869', 'object_873', 'object_877', 'object_881'], ['object_989', 'object_1001', 'object_977', 'object_1009', 'object_981', 'object_993', 'object_985', 'object_1005', 'object_997'], ['object_845', 'object_849', 'object_857', 'object_833', 'object_841', 'object_861', 'object_853', 'object_865', 'object_837'], ['object_817', 'object_825', 'object_821', 'object_829', 'object_813'], ['object_1057', 'object_1049', 'object_1053'], ['object_677', 'object_661', 'object_669', 'object_665', 'object_673'], ['object_689', 'object_685', 'object_701', 'object_693', 'object_681', 'object_697'], ['object_709', 'object_705', 'object_717', 'object_713'], ['object_4', 'object_8'], ['object_12', 'object_20', 'object_16', 'object_24'], ['object_36', 'object_52', 'object_44', 'object_32', 'object_28', 'object_40', 'object_56', 'object_48'], ['object_60'], ['object_68', 'object_64'], ['object_72', 'object_76'], ['object_132', 'object_92', 'object_84', 'object_120', 'object_108', 'object_116', 'object_88', 'object_100', 'object_112', 'object_104', 'object_128', 'object_124', 'object_96', 'object_80'], ['object_136', 'object_140', 'object_144', 'object_148', 'object_160', 'object_152', 'object_156'], ['object_248', 'object_244'], ['object_184', 'object_180', 'object_176', 'object_172'], ['object_188'], ['object_200', 'object_192', 'object_196'], ['object_212', 'object_204', 'object_208'], ['object_216', 'object_220'], ['object_240', 'object_224', 'object_236', 'object_228', 'object_232'], ['object_280', 'object_260', 'object_268', 'object_256', 'object_264', 'object_276', 'object_252', 'object_272'], ['object_300', 'object_288', 'object_304', 'object_284', 'object_292', 'object_296'], ['object_312', 'object_316', 'object_308'], ['object_320'], ['object_324', 'object_328', 'object_332', 'object_336'], ['object_344', 'object_340'], ['object_356', 'object_360', 'object_348', 'object_352'], ['object_364'], ['object_388', 'object_400', 'object_392', 'object_384', 'object_380', 'object_372', 'object_368', 'object_376', 'object_396'], ['object_404'], ['object_424', 'object_432', 'object_420', 'object_416', 'object_428', 'object_408', 'object_412', 'object_436'], ['object_456', 'object_448', 'object_452', 'object_440', 'object_444', 'object_460']]\n",
      "1080 1080 ./pngs/circle.svg.png\n",
      "[['object_82', 'object_78', 'object_86'], ['object_6', 'object_18', 'object_4', 'object_1', 'object_14', 'object_22', 'object_10', 'object_26'], ['object_50', 'object_42', 'object_30', 'object_38', 'object_46', 'object_34'], ['object_62', 'object_70', 'object_74', 'object_54', 'object_58', 'object_66'], ['object_98', 'object_90', 'object_94'], ['object_102'], ['object_110', 'object_118', 'object_114', 'object_106']]\n",
      "1080 1080 ./pngs/fashionad.svg.png\n",
      "[[], ['object_862', 'object_874', 'object_866', 'object_926', 'object_886', 'object_914', 'object_906', 'object_918', 'object_922', 'object_870', 'object_910', 'object_878', 'object_930', 'object_882'], ['object_890', 'object_934'], ['object_894', 'object_942', 'object_938', 'object_898'], ['object_598', 'object_690'], ['object_200', 'object_196', 'object_208', 'object_188', 'object_192', 'object_204'], ['object_244', 'object_248', 'object_232', 'object_216', 'object_260', 'object_252', 'object_228', 'object_256', 'object_224', 'object_220', 'object_212', 'object_236', 'object_264', 'object_240'], ['object_344', 'object_292', 'object_276', 'object_296', 'object_336', 'object_280', 'object_288', 'object_312', 'object_272', 'object_320', 'object_304', 'object_308', 'object_340', 'object_328', 'object_300', 'object_268', 'object_284', 'object_316', 'object_324', 'object_332'], ['object_370', 'object_366', 'object_430', 'object_442', 'object_434', 'object_362', 'object_354', 'object_358', 'object_438', 'object_350', 'object_446', 'object_450'], ['object_378', 'object_394', 'object_386', 'object_466', 'object_454', 'object_390', 'object_382', 'object_374', 'object_470', 'object_474', 'object_462', 'object_458'], ['object_494', 'object_490', 'object_414', 'object_406', 'object_478', 'object_482', 'object_398', 'object_402', 'object_486', 'object_410'], ['object_422', 'object_502', 'object_506', 'object_418', 'object_426', 'object_498'], ['object_610', 'object_606', 'object_602', 'object_518', 'object_514', 'object_510'], ['object_550', 'object_538', 'object_646', 'object_614', 'object_634', 'object_530', 'object_638', 'object_546', 'object_618', 'object_642', 'object_622', 'object_630', 'object_554', 'object_542', 'object_534', 'object_526', 'object_522', 'object_626'], ['object_562', 'object_650', 'object_558', 'object_654', 'object_566', 'object_658'], ['object_578', 'object_574', 'object_674', 'object_666', 'object_670', 'object_662', 'object_570', 'object_582'], ['object_682', 'object_586', 'object_686', 'object_678', 'object_594', 'object_590'], ['object_706', 'object_782', 'object_790', 'object_778', 'object_702', 'object_698', 'object_786', 'object_694'], ['object_714', 'object_710', 'object_794', 'object_798'], ['object_718', 'object_726', 'object_810', 'object_818', 'object_802', 'object_730', 'object_814', 'object_722', 'object_734', 'object_806'], ['object_746', 'object_754', 'object_758', 'object_838', 'object_738', 'object_822', 'object_826', 'object_834', 'object_842', 'object_830', 'object_750', 'object_742'], ['object_766', 'object_770', 'object_846', 'object_762', 'object_850', 'object_854'], ['object_774', 'object_858'], ['object_145', 'object_149', 'object_157', 'object_153'], ['object_165', 'object_169', 'object_161'], ['object_974', 'object_958', 'object_998', 'object_994', 'object_1006', 'object_990', 'object_1002', 'object_962', 'object_966', 'object_950', 'object_1014', 'object_954', 'object_1010', 'object_970'], ['object_978', 'object_1022', 'object_982', 'object_1018'], ['object_986', 'object_1026'], ['object_1046', 'object_1102', 'object_1122', 'object_1118', 'object_1078', 'object_1066', 'object_1074', 'object_1082', 'object_1050', 'object_1090', 'object_1094', 'object_1038', 'object_1030', 'object_1054', 'object_1098', 'object_1070', 'object_1114', 'object_1062', 'object_1086', 'object_1034', 'object_1110', 'object_1106', 'object_1058', 'object_1042'], ['object_178', 'object_176'], ['object_1146', 'object_1134', 'object_1210', 'object_1250', 'object_1262', 'object_1174', 'object_1282', 'object_1186', 'object_1194', 'object_1246', 'object_1162', 'object_1182', 'object_1214', 'object_1198', 'object_1130', 'object_1150', 'object_1258', 'object_1286', 'object_1238', 'object_1154', 'object_1274', 'object_1158', 'object_1278', 'object_1142', 'object_1254', 'object_1138', 'object_1206', 'object_1202', 'object_1242', 'object_1222', 'object_1126', 'object_1294', 'object_1266', 'object_1170', 'object_1190', 'object_1298', 'object_1290', 'object_1166', 'object_1178', 'object_1226', 'object_1218', 'object_1230', 'object_1234', 'object_1270'], ['object_1302', 'object_1306', 'object_1394', 'object_1390', 'object_1398', 'object_1310'], ['object_1338', 'object_1406', 'object_1430', 'object_1334', 'object_1414', 'object_1342', 'object_1410', 'object_1322', 'object_1318', 'object_1314', 'object_1326', 'object_1426', 'object_1402', 'object_1422', 'object_1330', 'object_1418'], ['object_1346', 'object_1438', 'object_1442', 'object_1354', 'object_1350', 'object_1434'], ['object_1358', 'object_1446'], ['object_1450', 'object_1366', 'object_1362', 'object_1458', 'object_1454', 'object_1370'], ['object_1386', 'object_1470', 'object_1466', 'object_1378', 'object_1474', 'object_1374', 'object_1382', 'object_1462']]\n",
      "1080 1080 ./pngs/Orange and Yellow Playful Organic Autumn Instagram Post.svg.png\n",
      "[['object_22', 'object_30', 'object_4', 'object_5'], ['object_23', 'object_11', 'object_7', 'object_29', 'object_28', 'object_10', 'object_9', 'object_31', 'object_1', 'object_18', 'object_19', 'object_27', 'object_12', 'object_17', 'object_6'], ['object_1755', 'object_1719', 'object_1743', 'object_1747', 'object_1759', 'object_1767', 'object_1751', 'object_1735', 'object_1727', 'object_1739', 'object_1723', 'object_1715', 'object_1711', 'object_1763', 'object_25', 'object_1731', 'object_1771']]\n"
     ]
    }
   ],
   "source": [
    "for _,_,files in walk(\"./svgs\"):\n",
    "    for file in files:\n",
    "        json_dict = add_rect(file)\n",
    "        ocr_dict = interogate(f\"./pngs/{file}.png\")\n",
    "\n",
    "        if (not ocr_dict): continue\n",
    "\n",
    "        with open(f\"./id_svg/{file}_withID.svg\") as f:\n",
    "            soup = BeautifulSoup(f, \"xml\")\n",
    "            root = soup.find(\"svg\")\n",
    "            _,_, attr = svg2paths2(f\"./id_svg/{file}_withID.svg\")\n",
    "\n",
    "        dim = attr[\"viewBox\"].split(\" \")\n",
    "\n",
    "        svg_width = float(dim[2].replace(\"px\",\"\"))\n",
    "        svg_height = float(dim[3].replace(\"px\",\"\"))\n",
    "\n",
    "        m,n = len(json_dict), len(ocr_dict)\n",
    "\n",
    "        json_map = {i : key for key, i in zip(list(json_dict.keys()), range(m))}\n",
    "        ocr_map = {i : key for key, i in zip(list(ocr_dict.keys()), range(n))}\n",
    "\n",
    "        bounds_json = list(json_dict.values())\n",
    "        bounds_ocr = list(ocr_dict.values())\n",
    "        bounds_ocr = [(left * svg_width, right * svg_width, top * svg_height, bottom * svg_height) for left,right,top,bottom in bounds_ocr]\n",
    "\n",
    "        center_json = [((b[1] + b[0]) / 2, (b[2] + b[3]) / 2) for b in bounds_json]\n",
    "        center_ocr = [((b[1] + b[0]) / 2, (b[2] +  b[3]) / 2) for b in bounds_ocr]\n",
    "\n",
    "        d = [[ 0 for i in range(n) ] for j in range(m)]\n",
    "\n",
    "\n",
    "        for i in range(m):\n",
    "            x1,y1 = center_json[i][0], center_json[i][1]\n",
    "            for j in range(n):\n",
    "                x2,y2 = center_ocr[j][0], center_ocr[j][1]\n",
    "\n",
    "                d[i][j] = math.sqrt((x2-x1) ** 2 + (y2-y1)**2)\n",
    "\n",
    "        x = [ [0] * (n) for i in range(m) ]\n",
    "        \n",
    "        optimize2(bounds_ocr, center_json, x)\n",
    "\n",
    "\n",
    "        # Match path assignments with OCR descriptions\n",
    "        group = [[] for _ in range(n)]\n",
    "        for i in range(m):\n",
    "            if max(x[i]):\n",
    "                group[x[i].index(1)].append(json_map[i])\n",
    "\n",
    "\n",
    "        texts = []\n",
    "\n",
    "        for text_index, e_list in enumerate(group):\n",
    "            for element_id in e_list:\n",
    "                e = soup.find(id=element_id)\n",
    "                if e: e.decompose()\n",
    "            \n",
    "            text_content = ocr_map[text_index]\n",
    "\n",
    "            x,y = center_ocr[text_index]\n",
    "            replacement = soup.new_tag(\"text\",x=x,y=y, color=\"green\")\n",
    "            replacement.insert(0, text_content)\n",
    "            cur_object = {\n",
    "                \"x\": x,\n",
    "                \"y\": y,\n",
    "                \"text\": text_content,\n",
    "            }\n",
    "\n",
    "            root.append(replacement)\n",
    "            \n",
    "        \n",
    "\n",
    "        with open(f\"./finalized_svg/{file}_final.svg\", \"wb\") as wf:\n",
    "            wf.write(soup.prettify(\"utf-8\"))"
   ]
  }
 ],
 "metadata": {
  "kernelspec": {
   "display_name": "venv",
   "language": "python",
   "name": "python3"
  },
  "language_info": {
   "codemirror_mode": {
    "name": "ipython",
    "version": 3
   },
   "file_extension": ".py",
   "mimetype": "text/x-python",
   "name": "python",
   "nbconvert_exporter": "python",
   "pygments_lexer": "ipython3",
   "version": "3.12.3"
  }
 },
 "nbformat": 4,
 "nbformat_minor": 2
}
